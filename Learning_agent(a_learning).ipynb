{
  "nbformat": 4,
  "nbformat_minor": 0,
  "metadata": {
    "colab": {
      "provenance": []
    },
    "kernelspec": {
      "name": "python3",
      "display_name": "Python 3"
    },
    "language_info": {
      "name": "python"
    }
  },
  "cells": [
    {
      "cell_type": "code",
      "execution_count": 104,
      "metadata": {
        "colab": {
          "base_uri": "https://localhost:8080/"
        },
        "id": "eXxOZip5MDvW",
        "outputId": "e215e9c5-8c2f-413f-d512-3f40b2ae0645"
      },
      "outputs": [
        {
          "output_type": "stream",
          "name": "stdout",
          "text": [
            "Requirement already satisfied: pygame in /usr/local/lib/python3.11/dist-packages (2.6.1)\n"
          ]
        }
      ],
      "source": [
        "!pip install pygame"
      ]
    },
    {
      "cell_type": "code",
      "source": [
        "import pygame\n",
        "import random\n",
        "import numpy as np"
      ],
      "metadata": {
        "id": "oeVipD2AMILk"
      },
      "execution_count": 105,
      "outputs": []
    },
    {
      "cell_type": "code",
      "source": [
        "WIDTH=300\n",
        "HEIGHT=300\n",
        "GRID_SIZE=5\n",
        "CELL_SIZE=WIDTH//GRID_SIZE\n",
        "FPS=5"
      ],
      "metadata": {
        "id": "QMVQ2bpfMQ6q"
      },
      "execution_count": 106,
      "outputs": []
    },
    {
      "cell_type": "code",
      "source": [
        "UP=(0,-1)\n",
        "DOWN=(0,1)\n",
        "LEFT=(-1,0)\n",
        "RIGHT=(1,0)\n",
        "ACTIONS=[UP,DOWN,LEFT,RIGHT]"
      ],
      "metadata": {
        "id": "TuJOT1kaMg1q"
      },
      "execution_count": 107,
      "outputs": []
    },
    {
      "cell_type": "code",
      "source": [
        "pygame.font.init()\n",
        "win=pygame.display.set_mode((WIDTH,HEIGHT))\n",
        "pygame.display.set_caption(\"Snake Q-learning-Small Grid\")\n",
        "font=pygame.font.SysFont(None,24)"
      ],
      "metadata": {
        "id": "lMrAk524Mt6q"
      },
      "execution_count": 108,
      "outputs": []
    },
    {
      "cell_type": "code",
      "source": [
        "class Food:\n",
        "  def __init__(self):\n",
        "    self.position=(random.randint(0,GRID_SIZE-1),random.randint(0,GRID_SIZE-1))\n",
        "\n",
        "  def randomize(self):\n",
        "    self.position=(random.randint(0,GRID_SIZE-1),random.randint(0,GRID_SIZE-1))"
      ],
      "metadata": {
        "id": "p3v1ZqQTNKzp"
      },
      "execution_count": 109,
      "outputs": []
    },
    {
      "cell_type": "code",
      "source": [
        "class Snake:\n",
        "  def __init__(self):\n",
        "    self.position=[(2,2)]\n",
        "    self.direction=random.choice(ACTIONS)\n",
        "\n",
        "  def move(self,action=None):\n",
        "    self.direction=action\n",
        "    head_x,head_y=self.position[0]\n",
        "    dir_x,dir_y=self.direction\n",
        "    new_head=(head_x+dir_x,head_y+dir_y)\n",
        "    self.position=[new_head]+self.position[:-1]\n",
        "\n",
        "  def grow(self):\n",
        "    tail=self.position[-1]\n",
        "    self.position.append(tail)\n",
        "\n",
        "  def collision(self):\n",
        "    head=self.position[0]\n",
        "    return(\n",
        "        head in self.position[1:] or\n",
        "        head[0]<0 or head[0]>=GRID_SIZE or\n",
        "        head[1]<0 or head[1]>=GRID_SIZE\n",
        "    )"
      ],
      "metadata": {
        "id": "XxEPeHO_OsFo"
      },
      "execution_count": 110,
      "outputs": []
    },
    {
      "cell_type": "code",
      "source": [
        "q_table=np.zeros((GRID_SIZE,GRID_SIZE,4))"
      ],
      "metadata": {
        "id": "aZUjwFqlQAdZ"
      },
      "execution_count": 111,
      "outputs": []
    },
    {
      "cell_type": "code",
      "source": [
        "alpha=0.1 #learning rate\n",
        "gamma=0.9 #discount factor\n",
        "epsilon=0.2 #exploration rate\n",
        "num_episodes=50"
      ],
      "metadata": {
        "id": "WwlRgIbCQINu"
      },
      "execution_count": 112,
      "outputs": []
    },
    {
      "cell_type": "code",
      "source": [
        "def get_state(snake):\n",
        "  return snake.position[0]"
      ],
      "metadata": {
        "id": "-USjSq34QtVw"
      },
      "execution_count": 113,
      "outputs": []
    },
    {
      "cell_type": "code",
      "source": [
        "def get_reward(snake, food):\n",
        "    if snake.position[0] == food.position:\n",
        "        return 10\n",
        "    elif snake.collision():\n",
        "        return -100\n",
        "    else:\n",
        "        return -1"
      ],
      "metadata": {
        "id": "0d4A13l1Qw4l"
      },
      "execution_count": 114,
      "outputs": []
    },
    {
      "cell_type": "code",
      "source": [
        "# Define colors (move these outside the loop if they are used elsewhere)\n",
        "WHITE = (255, 255, 255)\n",
        "BLACK = (0, 0, 0)\n",
        "GREEN = (0, 255, 0)\n",
        "RED = (255, 0, 0)\n",
        "\n",
        "WIDTH=300\n",
        "HEIGHT=300\n",
        "GRID_SIZE=5\n",
        "CELL_SIZE=WIDTH//GRID_SIZE\n",
        "FPS=5\n",
        "\n",
        "alpha=0.1 #learning rate\n",
        "gamma=0.9 #discount factor\n",
        "epsilon=0.2 #exploration rate\n",
        "num_episodes=50 # Define num_episodes here\n",
        "\n",
        "max_steps_per_episode = 1000 # Define a maximum number of steps per episode\n",
        "\n",
        "import random\n",
        "import numpy as np\n",
        "import pygame\n",
        "\n",
        "UP=(0,-1)\n",
        "DOWN=(0,1)\n",
        "LEFT=(-1,0)\n",
        "RIGHT=(1,0)\n",
        "ACTIONS=[UP,DOWN,LEFT,RIGHT]\n",
        "\n",
        "class Food:\n",
        "  def __init__(self):\n",
        "    self.position=(random.randint(0,GRID_SIZE-1),random.randint(0,GRID_SIZE-1))\n",
        "\n",
        "  def randomize(self):\n",
        "    self.position=(random.randint(0,GRID_SIZE-1),random.randint(0,GRID_SIZE-1))\n",
        "\n",
        "class Snake:\n",
        "  def __init__(self):\n",
        "    self.position=[(2,2)]\n",
        "    self.direction=random.choice(ACTIONS)\n",
        "\n",
        "  def move(self,action=None):\n",
        "    self.direction=action\n",
        "    head_x,head_y=self.position[0]\n",
        "    dir_x,dir_y=self.direction\n",
        "    new_head=(head_x+dir_x,head_y+dir_y)\n",
        "    self.position=[new_head]+self.position[:-1]\n",
        "\n",
        "  def grow(self):\n",
        "    tail=self.position[-1]\n",
        "    self.position.append(tail)\n",
        "\n",
        "  def collision(self):\n",
        "    head=self.position[0]\n",
        "    return(\n",
        "        head in self.position[1:] or\n",
        "        head[0]<0 or head[0]>=GRID_SIZE or\n",
        "        head[1]<0 or head[1]>=GRID_SIZE\n",
        "    )\n",
        "\n",
        "def get_state(snake):\n",
        "  return snake.position[0]\n",
        "\n",
        "def get_reward(snake, food):\n",
        "    if snake.position[0] == food.position:\n",
        "        return 10\n",
        "    elif snake.collision():\n",
        "        return -100\n",
        "    else:\n",
        "        return -1\n",
        "\n",
        "\n",
        "pygame.init()\n",
        "win=pygame.display.set_mode((WIDTH,HEIGHT))\n",
        "pygame.display.set_caption(\"Snake Q-learning-Small Grid\")\n",
        "font=pygame.font.SysFont(None,24)\n",
        "\n",
        "q_table=np.zeros((GRID_SIZE,GRID_SIZE,4))\n",
        "\n",
        "\n",
        "for episode in range(1, num_episodes + 1):\n",
        "    snake_instance = Snake()\n",
        "    food = Food()\n",
        "    done = False\n",
        "    total_reward = 0\n",
        "    steps = 0\n",
        "\n",
        "    clock = pygame.time.Clock()\n",
        "\n",
        "    while not done and steps < max_steps_per_episode:\n",
        "        clock.tick(FPS)\n",
        "\n",
        "        for event in pygame.event.get():\n",
        "            if event.type == pygame.QUIT:\n",
        "                pygame.quit()\n",
        "                exit()\n",
        "\n",
        "        current_state = get_state(snake_instance)\n",
        "\n",
        "        if random.uniform(0, 1) < epsilon: # Use epsilon instead of episode for exploration rate\n",
        "            action_idx = random.randint(0, 3)\n",
        "        else:\n",
        "            # Ensure state indices are within bounds before accessing q_table\n",
        "            state_x, state_y = current_state\n",
        "            if 0 <= state_x < GRID_SIZE and 0 <= state_y < GRID_SIZE:\n",
        "                action_idx = np.argmax(q_table[state_x, state_y])\n",
        "            else:\n",
        "                # If state is out of bounds, choose a random action or end the episode\n",
        "                # For now, let's end the episode on collision, handled after move\n",
        "                action_idx = random.randint(0, 3) # Choose random action as a fallback\n",
        "\n",
        "\n",
        "        action = ACTIONS[action_idx]\n",
        "        snake_instance.move(action)\n",
        "\n",
        "\n",
        "        # Check for collision after moving\n",
        "        if snake_instance.collision():\n",
        "            reward = -100\n",
        "            done = True\n",
        "        else:\n",
        "            reward = get_reward(snake_instance, food)\n",
        "            # If food is eaten, grow the snake and randomize food position\n",
        "            if snake_instance.position[0] == food.position:\n",
        "                snake_instance.grow()\n",
        "                food.randomize()\n",
        "\n",
        "\n",
        "        new_state = get_state(snake_instance)\n",
        "        total_reward += reward\n",
        "        steps += 1\n",
        "\n",
        "        # Q-learning update\n",
        "        if 0 <= current_state[0] < GRID_SIZE and 0 <= current_state[1] < GRID_SIZE and \\\n",
        "           0 <= new_state[0] < GRID_SIZE and 0 <= new_state[1] < GRID_SIZE:\n",
        "             old_value = q_table[current_state[0], current_state[1], action_idx]\n",
        "             next_max = np.max(q_table[new_state[0], new_state[1]]) if not done else 0\n",
        "             new_value = old_value + alpha * (reward + gamma * next_max - old_value)\n",
        "             q_table[current_state[0], current_state[1], action_idx] = new_value\n",
        "\n",
        "\n",
        "        # Rendering\n",
        "        win.fill(WHITE) # White background\n",
        "        # Draw grid lines\n",
        "        for i in range(GRID_SIZE):\n",
        "            for j in range(GRID_SIZE):\n",
        "                pygame.draw.rect(win, BLACK, (i * CELL_SIZE, j * CELL_SIZE, CELL_SIZE, CELL_SIZE), 1)\n",
        "        # Draw snake\n",
        "        for segment in snake_instance.position:\n",
        "             pygame.draw.rect(win,GREEN,(segment[0]*CELL_SIZE,segment[1]*CELL_SIZE,CELL_SIZE,CELL_SIZE))\n",
        "        # Draw food\n",
        "        pygame.draw.rect(win,RED,(food.position[0]*CELL_SIZE,food.position[1]*CELL_SIZE,CELL_SIZE,CELL_SIZE))\n",
        "        # Update display\n",
        "        pygame.display.update()\n",
        "\n",
        "\n",
        "    print(f\"Episode {episode}: Total Reward = {total_reward}\")\n",
        "\n",
        "pygame.quit()"
      ],
      "metadata": {
        "colab": {
          "base_uri": "https://localhost:8080/"
        },
        "id": "NIlYyBTDRXm3",
        "outputId": "20f7fb50-f823-441d-cf81-8078da160477"
      },
      "execution_count": 11,
      "outputs": [
        {
          "output_type": "stream",
          "name": "stdout",
          "text": [
            "pygame 2.6.1 (SDL 2.28.4, Python 3.11.13)\n",
            "Hello from the pygame community. https://www.pygame.org/contribute.html\n",
            "Episode 1: Total Reward = -103\n",
            "Episode 2: Total Reward = -108\n",
            "Episode 3: Total Reward = -112\n",
            "Episode 4: Total Reward = -104\n",
            "Episode 5: Total Reward = -108\n",
            "Episode 6: Total Reward = -116\n",
            "Episode 7: Total Reward = -96\n",
            "Episode 8: Total Reward = -104\n",
            "Episode 9: Total Reward = -102\n",
            "Episode 10: Total Reward = -106\n",
            "Episode 11: Total Reward = -104\n",
            "Episode 12: Total Reward = -98\n",
            "Episode 13: Total Reward = -102\n",
            "Episode 14: Total Reward = -103\n",
            "Episode 15: Total Reward = -107\n",
            "Episode 16: Total Reward = -107\n",
            "Episode 17: Total Reward = -98\n",
            "Episode 18: Total Reward = -106\n",
            "Episode 19: Total Reward = -103\n",
            "Episode 20: Total Reward = -103\n",
            "Episode 21: Total Reward = -81\n",
            "Episode 22: Total Reward = -92\n",
            "Episode 23: Total Reward = -104\n",
            "Episode 24: Total Reward = -105\n",
            "Episode 25: Total Reward = -102\n",
            "Episode 26: Total Reward = -102\n",
            "Episode 27: Total Reward = -106\n",
            "Episode 28: Total Reward = -102\n",
            "Episode 29: Total Reward = -104\n",
            "Episode 30: Total Reward = -103\n",
            "Episode 31: Total Reward = -92\n",
            "Episode 32: Total Reward = -103\n",
            "Episode 33: Total Reward = -103\n",
            "Episode 34: Total Reward = -107\n",
            "Episode 35: Total Reward = -107\n",
            "Episode 36: Total Reward = -103\n",
            "Episode 37: Total Reward = -92\n",
            "Episode 38: Total Reward = -103\n",
            "Episode 39: Total Reward = -110\n",
            "Episode 40: Total Reward = -110\n",
            "Episode 41: Total Reward = -105\n",
            "Episode 42: Total Reward = -107\n",
            "Episode 43: Total Reward = -103\n",
            "Episode 44: Total Reward = -103\n",
            "Episode 45: Total Reward = -105\n",
            "Episode 46: Total Reward = -103\n",
            "Episode 47: Total Reward = -104\n",
            "Episode 48: Total Reward = -104\n",
            "Episode 49: Total Reward = -102\n",
            "Episode 50: Total Reward = -103\n"
          ]
        }
      ]
    },
    {
      "cell_type": "markdown",
      "source": [],
      "metadata": {
        "id": "rpVJ0uKkWVLh"
      }
    }
  ]
}