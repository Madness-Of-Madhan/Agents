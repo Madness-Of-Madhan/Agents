{
  "nbformat": 4,
  "nbformat_minor": 0,
  "metadata": {
    "colab": {
      "provenance": [],
      "gpuType": "T4"
    },
    "kernelspec": {
      "name": "python3",
      "display_name": "Python 3"
    },
    "language_info": {
      "name": "python"
    },
    "accelerator": "GPU"
  },
  "cells": [
    {
      "cell_type": "code",
      "execution_count": null,
      "metadata": {
        "id": "XHjlxD_tb_-u"
      },
      "outputs": [],
      "source": [
        "# !pip install langchain langchain_community langgraph langchain_groq"
      ]
    },
    {
      "cell_type": "code",
      "source": [
        "# !pip install langsmith wikipedia"
      ],
      "metadata": {
        "id": "KGNK_WAdcjmK"
      },
      "execution_count": null,
      "outputs": []
    },
    {
      "cell_type": "code",
      "source": [
        "from IPython.display import Image,display\n",
        "from langgraph.graph import StateGraph,START,END\n",
        "from langchain_groq import ChatGroq\n",
        "import requests\n",
        "from langchain_core.messages import SystemMessage,HumanMessage\n",
        "from langgraph.graph import MessagesState\n",
        "\n",
        "from langgraph.prebuilt import ToolNode,tools_condition\n",
        "from typing import Annotated\n",
        "from typing_extensions import TypedDict\n",
        "from langgraph.graph.message import add_messages"
      ],
      "metadata": {
        "id": "3Hm2SWXZcqIw"
      },
      "execution_count": null,
      "outputs": []
    },
    {
      "cell_type": "code",
      "source": [
        "class State(TypedDict):\n",
        "  messages: Annotated[list,add_messages]"
      ],
      "metadata": {
        "id": "fYE7oc1rfiO5"
      },
      "execution_count": null,
      "outputs": []
    },
    {
      "cell_type": "code",
      "source": [
        "# !pip install -U duckduckgo-search"
      ],
      "metadata": {
        "id": "rNrxyaplf5Ze"
      },
      "execution_count": null,
      "outputs": []
    },
    {
      "cell_type": "code",
      "source": [
        "from ddgs.wrappers import DDGS\n",
        "import re\n",
        "\n",
        "def search_duckduckgo(query:str):\n",
        "  \"\"\"Searches DuckDuckGo for the given query and attempts to extract a year.\"\"\"\n",
        "  search=DDGS()\n",
        "  result = search.text(query)\n",
        "  # Attempt to extract a year from the result\n",
        "  match = re.search(r'\\b(\\d{4})\\b', result)\n",
        "  if match:\n",
        "    return match.group(1)\n",
        "  return result\n",
        "\n",
        "resulut=search_duckduckgo(\"what is langchain\")\n",
        "print(resulut)"
      ],
      "metadata": {
        "colab": {
          "base_uri": "https://localhost:8080/"
        },
        "id": "fJA46d_BgZaN",
        "outputId": "51595ddd-60d2-4a31-c7ba-a39a92b3a037"
      },
      "execution_count": null,
      "outputs": [
        {
          "output_type": "stream",
          "name": "stderr",
          "text": [
            "/usr/local/lib/python3.11/dist-packages/langchain_community/utilities/duckduckgo_search.py:63: RuntimeWarning: This package (`duckduckgo_search`) has been renamed to `ddgs`! Use `pip install ddgs` instead.\n",
            "  with DDGS() as ddgs:\n"
          ]
        },
        {
          "output_type": "stream",
          "name": "stdout",
          "text": [
            "May 22, 2025 · What is LangChain? LangChain is an open-source framework designed to help developers build applications that leverage the power of large language models (LLMs) such as GPT, LLaMA, and others. Jan 2, 2025 · LangChain is an open source model for building LLM-powered apps. Discover its features and benefits, and … Feb 18, 2025 · Learn about LangChain, its key features, and how it benefits developers in building powerful applications with … Jul 6, 2025 · We’ll also compare LangChain to other similar tools (such as LlamaIndex and Haystack) and finish with a simple Python demo. Key Takeaways LangChain is a modular, open-source Python framework to simplify the building of advanced LLM applications. It provides standardized interfaces for models, embeddings, vector stores, tools, and memory. May 22, 2025 · LangChain is an open-source framework that simplifies building applications powered by Large Language Models (LLMs). Supporting both Python and JavaScript, LangChain enables you to easily create AI chatbots that tap into your company's data (RAG) and develop AI assistants (agents) that can utilize multiple tools.\n"
          ]
        }
      ]
    },
    {
      "cell_type": "code",
      "source": [
        "def multiply(a:int,b:int)->int:\n",
        "  \"\"\"Multiplies two integers.\"\"\"\n",
        "  return a* b\n",
        "\n",
        "def add(a:int,b:int)->int:\n",
        "  \"\"\"Adds two integers.\"\"\"\n",
        "  return a+b"
      ],
      "metadata": {
        "id": "QTpGhuiggtFt"
      },
      "execution_count": null,
      "outputs": []
    },
    {
      "cell_type": "code",
      "source": [
        "from google.colab import userdata\n",
        "import os\n",
        "os.environ[\"groq_Api\"]=userdata.get(\"groq_Api\")\n"
      ],
      "metadata": {
        "id": "1mDgmil6iKl8"
      },
      "execution_count": null,
      "outputs": []
    },
    {
      "cell_type": "code",
      "source": [
        "llm=ChatGroq(groq_api_key=os.environ[\"groq_Api\"], model_name=\"llama3-8b-8192\")\n",
        "llm"
      ],
      "metadata": {
        "colab": {
          "base_uri": "https://localhost:8080/"
        },
        "id": "tDb77yV3ieyj",
        "outputId": "b9fe52fc-a667-4161-c9ca-327fac9923dd"
      },
      "execution_count": null,
      "outputs": [
        {
          "output_type": "execute_result",
          "data": {
            "text/plain": [
              "ChatGroq(client=<groq.resources.chat.completions.Completions object at 0x7a6b4af5cfd0>, async_client=<groq.resources.chat.completions.AsyncCompletions object at 0x7a6b4a5e1e90>, model_name='llama3-8b-8192', model_kwargs={}, groq_api_key=SecretStr('**********'))"
            ]
          },
          "metadata": {},
          "execution_count": 40
        }
      ]
    },
    {
      "cell_type": "code",
      "source": [
        "llm.invoke('hello').content"
      ],
      "metadata": {
        "colab": {
          "base_uri": "https://localhost:8080/",
          "height": 53
        },
        "id": "adpfCwxMioxD",
        "outputId": "e6d8e55d-73ba-42ac-995e-4e6aad340760"
      },
      "execution_count": null,
      "outputs": [
        {
          "output_type": "execute_result",
          "data": {
            "text/plain": [
              "\"Hello! It's nice to meet you. Is there something I can help you with, or would you like to chat?\""
            ],
            "application/vnd.google.colaboratory.intrinsic+json": {
              "type": "string"
            }
          },
          "metadata": {},
          "execution_count": 41
        }
      ]
    },
    {
      "cell_type": "code",
      "source": [
        "tools=[search_duckduckgo,add,multiply]\n",
        "llm_with_tools=llm.bind_tools(tools)"
      ],
      "metadata": {
        "id": "UU1EK4GJiyCa"
      },
      "execution_count": null,
      "outputs": []
    },
    {
      "cell_type": "code",
      "source": [
        "def chatbot(state:State):\n",
        "  return{\"messages\":[llm_with_tools.invoke(state['messages'])]}"
      ],
      "metadata": {
        "id": "p1TbDKZDji87"
      },
      "execution_count": null,
      "outputs": []
    },
    {
      "cell_type": "code",
      "source": [
        "graph_builder=StateGraph(State)\n",
        "\n",
        "graph_builder.add_node(\"assistant\",chatbot)\n",
        "graph_builder.add_node(\"tools\",ToolNode(tools))\n",
        "\n",
        "graph_builder.add_edge(START,\"assistant\")\n",
        "graph_builder.add_conditional_edges(\"assistant\",tools_condition)\n",
        "graph_builder.add_edge(\"tools\",\"assistant\")\n",
        "\n",
        "\n",
        "react_graph=graph_builder.compile()"
      ],
      "metadata": {
        "id": "KDnZoH9dkPr5"
      },
      "execution_count": null,
      "outputs": []
    },
    {
      "cell_type": "code",
      "source": [
        "display(Image(react_graph.get_graph().draw_mermaid_png()))"
      ],
      "metadata": {
        "colab": {
          "base_uri": "https://localhost:8080/",
          "height": 266
        },
        "id": "P4029YVilIuh",
        "outputId": "68d39200-b695-42d4-deea-c87183d104ba"
      },
      "execution_count": null,
      "outputs": [
        {
          "output_type": "display_data",
          "data": {
            "image/png": "[encoded data removed]",
            "text/plain": [
              "<IPython.core.display.Image object>"
            ]
          },
          "metadata": {}
        }
      ]
    },
    {
      "cell_type": "code",
      "source": [
        "response=react_graph.invoke({\"messages\":[SystemMessage(content=\"You are a helpful assistant that can search for information and perform calculations using the provided tools.\"),HumanMessage(content=\"what is the year of Indian Independence? After finding the year, multiply it by 2 and then add 5 to the result.\")]})\n",
        "print(response[\"messages\"])"
      ],
      "metadata": {
        "colab": {
          "base_uri": "https://localhost:8080/"
        },
        "id": "qrq735CvmbwI",
        "outputId": "93c28fb5-06cd-47e1-9735-80a70f027bbb"
      },
      "execution_count": null,
      "outputs": [
        {
          "output_type": "stream",
          "name": "stderr",
          "text": [
            "/usr/local/lib/python3.11/dist-packages/langchain_community/utilities/duckduckgo_search.py:63: RuntimeWarning: This package (`duckduckgo_search`) has been renamed to `ddgs`! Use `pip install ddgs` instead.\n",
            "  with DDGS() as ddgs:\n",
            "sys:1: ResourceWarning: Unclosed socket <zmq.Socket(zmq.PUSH) at 0x7a6b4a36c3d0>\n",
            "ResourceWarning: Enable tracemalloc to get the object allocation traceback\n",
            "/usr/local/lib/python3.11/dist-packages/langchain_community/utilities/duckduckgo_search.py:63: RuntimeWarning: This package (`duckduckgo_search`) has been renamed to `ddgs`! Use `pip install ddgs` instead.\n",
            "  with DDGS() as ddgs:\n",
            "sys:1: ResourceWarning: Unclosed socket <zmq.Socket(zmq.PUSH) at 0x7a6b4a36c830>\n",
            "ResourceWarning: Enable tracemalloc to get the object allocation traceback\n"
          ]
        },
        {
          "output_type": "stream",
          "name": "stdout",
          "text": [
            "[SystemMessage(content='You are a helpful assistant that can search for information and perform calculations using the provided tools.', additional_kwargs={}, response_metadata={}, id='03e935e5-051e-4870-81ad-eba2b8ca7cf3'), HumanMessage(content='what is the year of Indian Independence? After finding the year, multiply it by 2 and then add 5 to the result.', additional_kwargs={}, response_metadata={}, id='4b719521-1662-454c-883d-924d43198d24'), AIMessage(content='', additional_kwargs={'tool_calls': [{'id': 'nqqb6nkkb', 'function': {'arguments': '{\"query\":\"Year of Indian Independence\"}', 'name': 'search_duckduckgo'}, 'type': 'function'}]}, response_metadata={'token_usage': {'completion_tokens': 120, 'prompt_tokens': 1111, 'total_tokens': 1231, 'completion_time': 0.122378437, 'prompt_time': 0.124813035, 'queue_time': 0.057323372, 'total_time': 0.247191472}, 'model_name': 'llama3-8b-8192', 'system_fingerprint': 'fp_c0b3855449', 'service_tier': 'on_demand', 'finish_reason': 'tool_calls', 'logprobs': None}, id='run--85318e37-5069-45d0-8752-d4d5603c94ab-0', tool_calls=[{'name': 'search_duckduckgo', 'args': {'query': 'Year of Indian Independence'}, 'id': 'nqqb6nkkb', 'type': 'tool_call'}], usage_metadata={'input_tokens': 1111, 'output_tokens': 120, 'total_tokens': 1231}), ToolMessage(content='No good DuckDuckGo Search Result was found', name='search_duckduckgo', id='c65de59c-b928-4abe-a3eb-4aca18491be2', tool_call_id='nqqb6nkkb'), AIMessage(content='', additional_kwargs={'tool_calls': [{'id': 'q8s8geaba', 'function': {'arguments': '{\"query\":\"Year of Indian Independence\"}', 'name': 'search_duckduckgo'}, 'type': 'function'}]}, response_metadata={'token_usage': {'completion_tokens': 39, 'prompt_tokens': 1195, 'total_tokens': 1234, 'completion_time': 0.039523035, 'prompt_time': 0.133708517, 'queue_time': 0.057066499, 'total_time': 0.173231552}, 'model_name': 'llama3-8b-8192', 'system_fingerprint': 'fp_c0b3855449', 'service_tier': 'on_demand', 'finish_reason': 'tool_calls', 'logprobs': None}, id='run--30ac98aa-cd8f-4bb4-948a-9b3fa85ed5b0-0', tool_calls=[{'name': 'search_duckduckgo', 'args': {'query': 'Year of Indian Independence'}, 'id': 'q8s8geaba', 'type': 'tool_call'}], usage_metadata={'input_tokens': 1195, 'output_tokens': 39, 'total_tokens': 1234}), ToolMessage(content=\"The word year when pronounced starts with a phonetic sound of e which is a vowel sound making it eligible for being … Oct 27, 2015 · You've helped us with our thesis statements in this year. You've helped us with our thesis statements this … May 19, 2012 · Americans born this year will likely graduate from a university in the 'class of 2034', the seniors graduating this … Jul 29, 2011 · From WordWeb: Annual: Occurring or payable every year What is the corresponding single word for occurring … Jan 26, 2017 · 'A year' can be any year without any specification. But 'the year' means a particular/specified year or the …\", name='search_duckduckgo', id='2f39a611-7d79-4a24-8e6d-58b4a5c500e7', tool_call_id='q8s8geaba'), AIMessage(content=\"It seems that the tool call didn't yield the desired result. Let's try a different approach.\\n\\nAfter re-evaluating the conversation, I found that the user asked for the year of Indian Independence. According to my knowledge, India gained independence from British colonial rule on August 15, 1947.\\n\\nTo answer the original question, I will multiply 1947 by 2 and add 5 to the result.\\n\\n1947 * 2 = 3894\\n3894 + 5 = 3899\\n\\nSo, the result is 3899.\", additional_kwargs={}, response_metadata={'token_usage': {'completion_tokens': 115, 'prompt_tokens': 1416, 'total_tokens': 1531, 'completion_time': 0.172364931, 'prompt_time': 0.199758497, 'queue_time': 0.332886231, 'total_time': 0.372123428}, 'model_name': 'llama3-8b-8192', 'system_fingerprint': 'fp_5b339000ab', 'service_tier': 'on_demand', 'finish_reason': 'stop', 'logprobs': None}, id='run--bedb6668-ca3b-442f-b169-55a957caac61-0', usage_metadata={'input_tokens': 1416, 'output_tokens': 115, 'total_tokens': 1531})]\n"
          ]
        }
      ]
    },
    {
      "cell_type": "code",
      "source": [
        "for m in response['messages']:\n",
        "  m.pretty_print()"
      ],
      "metadata": {
        "colab": {
          "base_uri": "https://localhost:8080/"
        },
        "id": "_uEDgv_GnRkH",
        "outputId": "4aa45a36-d85e-4e9b-f45e-72a5a7dce61f"
      },
      "execution_count": null,
      "outputs": [
        {
          "output_type": "stream",
          "name": "stdout",
          "text": [
            "================================\u001b[1m System Message \u001b[0m================================\n",
            "\n",
            "You are a helpful assistant that can search for information and perform calculations using the provided tools.\n",
            "================================\u001b[1m Human Message \u001b[0m=================================\n",
            "\n",
            "what is the year of Indian Independence? After finding the year, multiply it by 2 and then add 5 to the result.\n",
            "==================================\u001b[1m Ai Message \u001b[0m==================================\n",
            "Tool Calls:\n",
            "  search_duckduckgo (nqqb6nkkb)\n",
            " Call ID: nqqb6nkkb\n",
            "  Args:\n",
            "    query: Year of Indian Independence\n",
            "=================================\u001b[1m Tool Message \u001b[0m=================================\n",
            "Name: search_duckduckgo\n",
            "\n",
            "No good DuckDuckGo Search Result was found\n",
            "==================================\u001b[1m Ai Message \u001b[0m==================================\n",
            "Tool Calls:\n",
            "  search_duckduckgo (q8s8geaba)\n",
            " Call ID: q8s8geaba\n",
            "  Args:\n",
            "    query: Year of Indian Independence\n",
            "=================================\u001b[1m Tool Message \u001b[0m=================================\n",
            "Name: search_duckduckgo\n",
            "\n",
            "The word year when pronounced starts with a phonetic sound of e which is a vowel sound making it eligible for being … Oct 27, 2015 · You've helped us with our thesis statements in this year. You've helped us with our thesis statements this … May 19, 2012 · Americans born this year will likely graduate from a university in the 'class of 2034', the seniors graduating this … Jul 29, 2011 · From WordWeb: Annual: Occurring or payable every year What is the corresponding single word for occurring … Jan 26, 2017 · 'A year' can be any year without any specification. But 'the year' means a particular/specified year or the …\n",
            "==================================\u001b[1m Ai Message \u001b[0m==================================\n",
            "\n",
            "It seems that the tool call didn't yield the desired result. Let's try a different approach.\n",
            "\n",
            "After re-evaluating the conversation, I found that the user asked for the year of Indian Independence. According to my knowledge, India gained independence from British colonial rule on August 15, 1947.\n",
            "\n",
            "To answer the original question, I will multiply 1947 by 2 and add 5 to the result.\n",
            "\n",
            "1947 * 2 = 3894\n",
            "3894 + 5 = 3899\n",
            "\n",
            "So, the result is 3899.\n"
          ]
        }
      ]
    },
    {
      "cell_type": "code",
      "source": [],
      "metadata": {
        "id": "hBUuFrcQo0x9"
      },
      "execution_count": null,
      "outputs": []
    }
  ]
}