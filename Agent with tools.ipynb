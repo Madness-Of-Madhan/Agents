{
  "nbformat": 4,
  "nbformat_minor": 0,
  "metadata": {
    "colab": {
      "provenance": [],
      "gpuType": "T4"
    },
    "kernelspec": {
      "name": "python3",
      "display_name": "Python 3"
    },
    "language_info": {
      "name": "python"
    },
    "accelerator": "GPU"
  },
  "cells": [
    {
      "cell_type": "code",
      "execution_count": 2,
      "metadata": {
        "colab": {
          "base_uri": "https://localhost:8080/"
        },
        "id": "WVUw0tDOqlH2",
        "outputId": "0f4bdd3e-9db5-4aa8-b0bb-92aa4dc5f485"
      },
      "outputs": [
        {
          "output_type": "stream",
          "name": "stdout",
          "text": [
            "Requirement already satisfied: langchain in /usr/local/lib/python3.11/dist-packages (0.3.27)\n",
            "Collecting langchain_community\n",
            "  Downloading langchain_community-0.3.27-py3-none-any.whl.metadata (2.9 kB)\n",
            "Collecting langgraph\n",
            "  Downloading langgraph-0.6.4-py3-none-any.whl.metadata (6.8 kB)\n",
            "Collecting langchain_groq\n",
            "  Downloading langchain_groq-0.3.7-py3-none-any.whl.metadata (2.6 kB)\n",
            "Collecting duckduckgo-search\n",
            "  Downloading duckduckgo_search-8.1.1-py3-none-any.whl.metadata (16 kB)\n",
            "Requirement already satisfied: langchain-core<1.0.0,>=0.3.72 in /usr/local/lib/python3.11/dist-packages (from langchain) (0.3.72)\n",
            "Requirement already satisfied: langchain-text-splitters<1.0.0,>=0.3.9 in /usr/local/lib/python3.11/dist-packages (from langchain) (0.3.9)\n",
            "Requirement already satisfied: langsmith>=0.1.17 in /usr/local/lib/python3.11/dist-packages (from langchain) (0.4.12)\n",
            "Requirement already satisfied: pydantic<3.0.0,>=2.7.4 in /usr/local/lib/python3.11/dist-packages (from langchain) (2.11.7)\n",
            "Requirement already satisfied: SQLAlchemy<3,>=1.4 in /usr/local/lib/python3.11/dist-packages (from langchain) (2.0.42)\n",
            "Requirement already satisfied: requests<3,>=2 in /usr/local/lib/python3.11/dist-packages (from langchain) (2.32.3)\n",
            "Requirement already satisfied: PyYAML>=5.3 in /usr/local/lib/python3.11/dist-packages (from langchain) (6.0.2)\n",
            "Requirement already satisfied: aiohttp<4.0.0,>=3.8.3 in /usr/local/lib/python3.11/dist-packages (from langchain_community) (3.12.15)\n",
            "Requirement already satisfied: tenacity!=8.4.0,<10,>=8.1.0 in /usr/local/lib/python3.11/dist-packages (from langchain_community) (8.5.0)\n",
            "Collecting dataclasses-json<0.7,>=0.5.7 (from langchain_community)\n",
            "  Downloading dataclasses_json-0.6.7-py3-none-any.whl.metadata (25 kB)\n",
            "Collecting pydantic-settings<3.0.0,>=2.4.0 (from langchain_community)\n",
            "  Downloading pydantic_settings-2.10.1-py3-none-any.whl.metadata (3.4 kB)\n",
            "Collecting httpx-sse<1.0.0,>=0.4.0 (from langchain_community)\n",
            "  Downloading httpx_sse-0.4.1-py3-none-any.whl.metadata (9.4 kB)\n",
            "Requirement already satisfied: numpy>=1.26.2 in /usr/local/lib/python3.11/dist-packages (from langchain_community) (2.0.2)\n",
            "Collecting langgraph-checkpoint<3.0.0,>=2.1.0 (from langgraph)\n",
            "  Downloading langgraph_checkpoint-2.1.1-py3-none-any.whl.metadata (4.2 kB)\n",
            "Collecting langgraph-prebuilt<0.7.0,>=0.6.0 (from langgraph)\n",
            "  Downloading langgraph_prebuilt-0.6.4-py3-none-any.whl.metadata (4.5 kB)\n",
            "Collecting langgraph-sdk<0.3.0,>=0.2.0 (from langgraph)\n",
            "  Downloading langgraph_sdk-0.2.0-py3-none-any.whl.metadata (1.5 kB)\n",
            "Requirement already satisfied: xxhash>=3.5.0 in /usr/local/lib/python3.11/dist-packages (from langgraph) (3.5.0)\n",
            "Collecting groq<1,>=0.30.0 (from langchain_groq)\n",
            "  Downloading groq-0.31.0-py3-none-any.whl.metadata (16 kB)\n",
            "Requirement already satisfied: click>=8.1.8 in /usr/local/lib/python3.11/dist-packages (from duckduckgo-search) (8.2.1)\n",
            "Collecting primp>=0.15.0 (from duckduckgo-search)\n",
            "  Downloading primp-0.15.0-cp38-abi3-manylinux_2_17_x86_64.manylinux2014_x86_64.whl.metadata (13 kB)\n",
            "Requirement already satisfied: lxml>=5.3.0 in /usr/local/lib/python3.11/dist-packages (from duckduckgo-search) (5.4.0)\n",
            "Requirement already satisfied: aiohappyeyeballs>=2.5.0 in /usr/local/lib/python3.11/dist-packages (from aiohttp<4.0.0,>=3.8.3->langchain_community) (2.6.1)\n",
            "Requirement already satisfied: aiosignal>=1.4.0 in /usr/local/lib/python3.11/dist-packages (from aiohttp<4.0.0,>=3.8.3->langchain_community) (1.4.0)\n",
            "Requirement already satisfied: attrs>=17.3.0 in /usr/local/lib/python3.11/dist-packages (from aiohttp<4.0.0,>=3.8.3->langchain_community) (25.3.0)\n",
            "Requirement already satisfied: frozenlist>=1.1.1 in /usr/local/lib/python3.11/dist-packages (from aiohttp<4.0.0,>=3.8.3->langchain_community) (1.7.0)\n",
            "Requirement already satisfied: multidict<7.0,>=4.5 in /usr/local/lib/python3.11/dist-packages (from aiohttp<4.0.0,>=3.8.3->langchain_community) (6.6.3)\n",
            "Requirement already satisfied: propcache>=0.2.0 in /usr/local/lib/python3.11/dist-packages (from aiohttp<4.0.0,>=3.8.3->langchain_community) (0.3.2)\n",
            "Requirement already satisfied: yarl<2.0,>=1.17.0 in /usr/local/lib/python3.11/dist-packages (from aiohttp<4.0.0,>=3.8.3->langchain_community) (1.20.1)\n",
            "Collecting marshmallow<4.0.0,>=3.18.0 (from dataclasses-json<0.7,>=0.5.7->langchain_community)\n",
            "  Downloading marshmallow-3.26.1-py3-none-any.whl.metadata (7.3 kB)\n",
            "Collecting typing-inspect<1,>=0.4.0 (from dataclasses-json<0.7,>=0.5.7->langchain_community)\n",
            "  Downloading typing_inspect-0.9.0-py3-none-any.whl.metadata (1.5 kB)\n",
            "Requirement already satisfied: anyio<5,>=3.5.0 in /usr/local/lib/python3.11/dist-packages (from groq<1,>=0.30.0->langchain_groq) (4.10.0)\n",
            "Requirement already satisfied: distro<2,>=1.7.0 in /usr/local/lib/python3.11/dist-packages (from groq<1,>=0.30.0->langchain_groq) (1.9.0)\n",
            "Requirement already satisfied: httpx<1,>=0.23.0 in /usr/local/lib/python3.11/dist-packages (from groq<1,>=0.30.0->langchain_groq) (0.28.1)\n",
            "Requirement already satisfied: sniffio in /usr/local/lib/python3.11/dist-packages (from groq<1,>=0.30.0->langchain_groq) (1.3.1)\n",
            "Requirement already satisfied: typing-extensions<5,>=4.10 in /usr/local/lib/python3.11/dist-packages (from groq<1,>=0.30.0->langchain_groq) (4.14.1)\n",
            "Requirement already satisfied: jsonpatch<2.0,>=1.33 in /usr/local/lib/python3.11/dist-packages (from langchain-core<1.0.0,>=0.3.72->langchain) (1.33)\n",
            "Requirement already satisfied: packaging>=23.2 in /usr/local/lib/python3.11/dist-packages (from langchain-core<1.0.0,>=0.3.72->langchain) (25.0)\n",
            "Collecting ormsgpack>=1.10.0 (from langgraph-checkpoint<3.0.0,>=2.1.0->langgraph)\n",
            "  Downloading ormsgpack-1.10.0-cp311-cp311-manylinux_2_17_x86_64.manylinux2014_x86_64.whl.metadata (43 kB)\n",
            "\u001b[2K     \u001b[90m━━━━━━━━━━━━━━━━━━━━━━━━━━━━━━━━━━━━━━━━\u001b[0m \u001b[32m43.7/43.7 kB\u001b[0m \u001b[31m4.0 MB/s\u001b[0m eta \u001b[36m0:00:00\u001b[0m\n",
            "\u001b[?25hRequirement already satisfied: orjson>=3.10.1 in /usr/local/lib/python3.11/dist-packages (from langgraph-sdk<0.3.0,>=0.2.0->langgraph) (3.11.1)\n",
            "Requirement already satisfied: requests-toolbelt>=1.0.0 in /usr/local/lib/python3.11/dist-packages (from langsmith>=0.1.17->langchain) (1.0.0)\n",
            "Requirement already satisfied: zstandard>=0.23.0 in /usr/local/lib/python3.11/dist-packages (from langsmith>=0.1.17->langchain) (0.23.0)\n",
            "Requirement already satisfied: annotated-types>=0.6.0 in /usr/local/lib/python3.11/dist-packages (from pydantic<3.0.0,>=2.7.4->langchain) (0.7.0)\n",
            "Requirement already satisfied: pydantic-core==2.33.2 in /usr/local/lib/python3.11/dist-packages (from pydantic<3.0.0,>=2.7.4->langchain) (2.33.2)\n",
            "Requirement already satisfied: typing-inspection>=0.4.0 in /usr/local/lib/python3.11/dist-packages (from pydantic<3.0.0,>=2.7.4->langchain) (0.4.1)\n",
            "Collecting python-dotenv>=0.21.0 (from pydantic-settings<3.0.0,>=2.4.0->langchain_community)\n",
            "  Downloading python_dotenv-1.1.1-py3-none-any.whl.metadata (24 kB)\n",
            "Requirement already satisfied: charset-normalizer<4,>=2 in /usr/local/lib/python3.11/dist-packages (from requests<3,>=2->langchain) (3.4.2)\n",
            "Requirement already satisfied: idna<4,>=2.5 in /usr/local/lib/python3.11/dist-packages (from requests<3,>=2->langchain) (3.10)\n",
            "Requirement already satisfied: urllib3<3,>=1.21.1 in /usr/local/lib/python3.11/dist-packages (from requests<3,>=2->langchain) (2.5.0)\n",
            "Requirement already satisfied: certifi>=2017.4.17 in /usr/local/lib/python3.11/dist-packages (from requests<3,>=2->langchain) (2025.8.3)\n",
            "Requirement already satisfied: greenlet>=1 in /usr/local/lib/python3.11/dist-packages (from SQLAlchemy<3,>=1.4->langchain) (3.2.3)\n",
            "Requirement already satisfied: httpcore==1.* in /usr/local/lib/python3.11/dist-packages (from httpx<1,>=0.23.0->groq<1,>=0.30.0->langchain_groq) (1.0.9)\n",
            "Requirement already satisfied: h11>=0.16 in /usr/local/lib/python3.11/dist-packages (from httpcore==1.*->httpx<1,>=0.23.0->groq<1,>=0.30.0->langchain_groq) (0.16.0)\n",
            "Requirement already satisfied: jsonpointer>=1.9 in /usr/local/lib/python3.11/dist-packages (from jsonpatch<2.0,>=1.33->langchain-core<1.0.0,>=0.3.72->langchain) (3.0.0)\n",
            "Collecting mypy-extensions>=0.3.0 (from typing-inspect<1,>=0.4.0->dataclasses-json<0.7,>=0.5.7->langchain_community)\n",
            "  Downloading mypy_extensions-1.1.0-py3-none-any.whl.metadata (1.1 kB)\n",
            "Downloading langchain_community-0.3.27-py3-none-any.whl (2.5 MB)\n",
            "\u001b[2K   \u001b[90m━━━━━━━━━━━━━━━━━━━━━━━━━━━━━━━━━━━━━━━━\u001b[0m \u001b[32m2.5/2.5 MB\u001b[0m \u001b[31m57.2 MB/s\u001b[0m eta \u001b[36m0:00:00\u001b[0m\n",
            "\u001b[?25hDownloading langgraph-0.6.4-py3-none-any.whl (153 kB)\n",
            "\u001b[2K   \u001b[90m━━━━━━━━━━━━━━━━━━━━━━━━━━━━━━━━━━━━━━━━\u001b[0m \u001b[32m153.2/153.2 kB\u001b[0m \u001b[31m15.4 MB/s\u001b[0m eta \u001b[36m0:00:00\u001b[0m\n",
            "\u001b[?25hDownloading langchain_groq-0.3.7-py3-none-any.whl (16 kB)\n",
            "Downloading duckduckgo_search-8.1.1-py3-none-any.whl (18 kB)\n",
            "Downloading dataclasses_json-0.6.7-py3-none-any.whl (28 kB)\n",
            "Downloading groq-0.31.0-py3-none-any.whl (131 kB)\n",
            "\u001b[2K   \u001b[90m━━━━━━━━━━━━━━━━━━━━━━━━━━━━━━━━━━━━━━━━\u001b[0m \u001b[32m131.4/131.4 kB\u001b[0m \u001b[31m13.5 MB/s\u001b[0m eta \u001b[36m0:00:00\u001b[0m\n",
            "\u001b[?25hDownloading httpx_sse-0.4.1-py3-none-any.whl (8.1 kB)\n",
            "Downloading langgraph_checkpoint-2.1.1-py3-none-any.whl (43 kB)\n",
            "\u001b[2K   \u001b[90m━━━━━━━━━━━━━━━━━━━━━━━━━━━━━━━━━━━━━━━━\u001b[0m \u001b[32m43.9/43.9 kB\u001b[0m \u001b[31m4.3 MB/s\u001b[0m eta \u001b[36m0:00:00\u001b[0m\n",
            "\u001b[?25hDownloading langgraph_prebuilt-0.6.4-py3-none-any.whl (28 kB)\n",
            "Downloading langgraph_sdk-0.2.0-py3-none-any.whl (50 kB)\n",
            "\u001b[2K   \u001b[90m━━━━━━━━━━━━━━━━━━━━━━━━━━━━━━━━━━━━━━━━\u001b[0m \u001b[32m50.6/50.6 kB\u001b[0m \u001b[31m5.0 MB/s\u001b[0m eta \u001b[36m0:00:00\u001b[0m\n",
            "\u001b[?25hDownloading primp-0.15.0-cp38-abi3-manylinux_2_17_x86_64.manylinux2014_x86_64.whl (3.3 MB)\n",
            "\u001b[2K   \u001b[90m━━━━━━━━━━━━━━━━━━━━━━━━━━━━━━━━━━━━━━━━\u001b[0m \u001b[32m3.3/3.3 MB\u001b[0m \u001b[31m112.8 MB/s\u001b[0m eta \u001b[36m0:00:00\u001b[0m\n",
            "\u001b[?25hDownloading pydantic_settings-2.10.1-py3-none-any.whl (45 kB)\n",
            "\u001b[2K   \u001b[90m━━━━━━━━━━━━━━━━━━━━━━━━━━━━━━━━━━━━━━━━\u001b[0m \u001b[32m45.2/45.2 kB\u001b[0m \u001b[31m4.2 MB/s\u001b[0m eta \u001b[36m0:00:00\u001b[0m\n",
            "\u001b[?25hDownloading marshmallow-3.26.1-py3-none-any.whl (50 kB)\n",
            "\u001b[2K   \u001b[90m━━━━━━━━━━━━━━━━━━━━━━━━━━━━━━━━━━━━━━━━\u001b[0m \u001b[32m50.9/50.9 kB\u001b[0m \u001b[31m5.2 MB/s\u001b[0m eta \u001b[36m0:00:00\u001b[0m\n",
            "\u001b[?25hDownloading ormsgpack-1.10.0-cp311-cp311-manylinux_2_17_x86_64.manylinux2014_x86_64.whl (216 kB)\n",
            "\u001b[2K   \u001b[90m━━━━━━━━━━━━━━━━━━━━━━━━━━━━━━━━━━━━━━━━\u001b[0m \u001b[32m216.5/216.5 kB\u001b[0m \u001b[31m19.8 MB/s\u001b[0m eta \u001b[36m0:00:00\u001b[0m\n",
            "\u001b[?25hDownloading python_dotenv-1.1.1-py3-none-any.whl (20 kB)\n",
            "Downloading typing_inspect-0.9.0-py3-none-any.whl (8.8 kB)\n",
            "Downloading mypy_extensions-1.1.0-py3-none-any.whl (5.0 kB)\n",
            "Installing collected packages: python-dotenv, primp, ormsgpack, mypy-extensions, marshmallow, httpx-sse, typing-inspect, duckduckgo-search, pydantic-settings, langgraph-sdk, groq, dataclasses-json, langgraph-checkpoint, langchain_groq, langgraph-prebuilt, langgraph, langchain_community\n",
            "Successfully installed dataclasses-json-0.6.7 duckduckgo-search-8.1.1 groq-0.31.0 httpx-sse-0.4.1 langchain_community-0.3.27 langchain_groq-0.3.7 langgraph-0.6.4 langgraph-checkpoint-2.1.1 langgraph-prebuilt-0.6.4 langgraph-sdk-0.2.0 marshmallow-3.26.1 mypy-extensions-1.1.0 ormsgpack-1.10.0 primp-0.15.0 pydantic-settings-2.10.1 python-dotenv-1.1.1 typing-inspect-0.9.0\n"
          ]
        }
      ],
      "source": [
        "!pip install langchain langchain_community langgraph langchain_groq duckduckgo-search"
      ]
    },
    {
      "cell_type": "code",
      "source": [
        "from IPython.display import Image, display\n",
        "from langgraph.graph import StateGraph, START, END\n",
        "from langchain_groq import ChatGroq\n",
        "from langchain_core.messages import SystemMessage, HumanMessage\n",
        "from langgraph.graph import MessagesState\n",
        "from langgraph.prebuilt import ToolNode, tools_condition\n",
        "from typing import Annotated\n",
        "from typing_extensions import TypedDict\n",
        "from langgraph.graph.message import add_messages\n",
        "from duckduckgo_search import DDGS\n",
        "import re\n",
        "import os\n",
        "from google.colab import userdata"
      ],
      "metadata": {
        "id": "lA8fQz1EqwkG"
      },
      "execution_count": 3,
      "outputs": []
    },
    {
      "cell_type": "code",
      "source": [
        "class State(TypedDict):\n",
        "    messages: Annotated[list, add_messages]\n"
      ],
      "metadata": {
        "id": "ei7hDr16rPq-"
      },
      "execution_count": 4,
      "outputs": []
    },
    {
      "cell_type": "code",
      "source": [
        "def search_historical_info(query: str) -> str:\n",
        "    \"\"\"Searches for historical information using DuckDuckGo.\n",
        "    Use this tool for any historical queries or date-related questions.\"\"\"\n",
        "    try:\n",
        "        search = DDGS()\n",
        "        results = search.text(query, max_results=3)\n",
        "\n",
        "        if results:\n",
        "            # Look for years in the results\n",
        "            for result in results:\n",
        "                text = result.get('body', '') + ' ' + result.get('title', '')\n",
        "                # Look for 4-digit years\n",
        "                years = re.findall(r'\\b(19\\d{2}|20\\d{2})\\b', text)\n",
        "                if years:\n",
        "                    return f\"Found historical information: {text[:200]}... Relevant years found: {years}\"\n",
        "\n",
        "            # If no years found, return the first result\n",
        "            return f\"Historical information: {results[0].get('body', '')[:300]}\"\n",
        "        else:\n",
        "            return \"No historical information found for this query.\"\n",
        "    except Exception as e:\n",
        "        return f\"Search error: {str(e)}\""
      ],
      "metadata": {
        "id": "3C9kAu-irQhS"
      },
      "execution_count": 5,
      "outputs": []
    },
    {
      "cell_type": "code",
      "source": [
        "def perform_multiplication(number1: int, number2: int) -> int:\n",
        "    \"\"\"Multiplies two numbers together.\n",
        "    ALWAYS use this tool for ANY multiplication operation - do not calculate manually.\"\"\"\n",
        "    result = number1 * number2\n",
        "    print(f\"🔢 Multiplication Tool: {number1} × {number2} = {result}\")\n",
        "    return result\n",
        "\n",
        "def perform_addition(number1: int, number2: int) -> int:\n",
        "    \"\"\"Adds two numbers together.\n",
        "    ALWAYS use this tool for ANY addition operation - do not calculate manually.\"\"\"\n",
        "    result = number1 + number2\n",
        "    print(f\"➕ Addition Tool: {number1} + {number2} = {result}\")\n",
        "    return result\n",
        "\n",
        "def perform_subtraction(number1: int, number2: int) -> int:\n",
        "    \"\"\"Subtracts the second number from the first number.\n",
        "    ALWAYS use this tool for ANY subtraction operation - do not calculate manually.\"\"\"\n",
        "    result = number1 - number2\n",
        "    print(f\"➖ Subtraction Tool: {number1} - {number2} = {result}\")\n",
        "    return result\n"
      ],
      "metadata": {
        "id": "auKAQ2CbrVy6"
      },
      "execution_count": 6,
      "outputs": []
    },
    {
      "cell_type": "code",
      "source": [
        "def get_current_year() -> int:\n",
        "    \"\"\"Gets the current year. Use this when you need to know what year it is now.\"\"\"\n",
        "    from datetime import datetime\n",
        "    current_year = datetime.now().year\n",
        "    print(f\"📅 Current Year Tool: {current_year}\")\n",
        "    return current_year\n",
        "\n",
        "def calculate_age_from_year(birth_year: int) -> int:\n",
        "    \"\"\"Calculates how many years ago something happened or someone's age from their birth year.\"\"\"\n",
        "    from datetime import datetime\n",
        "    current_year = datetime.now().year\n",
        "    age = current_year - birth_year\n",
        "    print(f\"🎂 Age Calculator Tool: {current_year} - {birth_year} = {age} years\")\n",
        "    return age\n"
      ],
      "metadata": {
        "id": "I2JWHmlXraqi"
      },
      "execution_count": 7,
      "outputs": []
    },
    {
      "cell_type": "code",
      "source": [
        "os.environ[\"groq_Api\"] = userdata.get(\"groq_Api\")"
      ],
      "metadata": {
        "id": "W8C4o_ZZrdry"
      },
      "execution_count": 8,
      "outputs": []
    },
    {
      "cell_type": "code",
      "source": [
        "llm = ChatGroq(\n",
        "    groq_api_key=os.environ[\"groq_Api\"],\n",
        "    model_name=\"llama3-8b-8192\",\n",
        "    temperature=0  # Lower temperature for more consistent tool usage\n",
        ")"
      ],
      "metadata": {
        "id": "D5vVIoRbrgpZ"
      },
      "execution_count": 9,
      "outputs": []
    },
    {
      "cell_type": "code",
      "source": [
        "tools = [\n",
        "    search_historical_info,\n",
        "    perform_multiplication,\n",
        "    perform_addition,\n",
        "    perform_subtraction,\n",
        "    get_current_year,\n",
        "    calculate_age_from_year\n",
        "]"
      ],
      "metadata": {
        "id": "RqYxLITbroZq"
      },
      "execution_count": 10,
      "outputs": []
    },
    {
      "cell_type": "code",
      "source": [
        "llm_with_tools = llm.bind_tools(tools)"
      ],
      "metadata": {
        "id": "UaP-ZVOfrrRy"
      },
      "execution_count": 11,
      "outputs": []
    },
    {
      "cell_type": "code",
      "source": [
        "def chatbot(state: State):\n",
        "    return {\"messages\": [llm_with_tools.invoke(state['messages'])]}\n"
      ],
      "metadata": {
        "id": "G-Jz8AsVrt0Z"
      },
      "execution_count": 12,
      "outputs": []
    },
    {
      "cell_type": "code",
      "source": [
        "# Build the graph\n",
        "graph_builder = StateGraph(State)\n",
        "graph_builder.add_node(\"assistant\", chatbot)\n",
        "graph_builder.add_node(\"tools\", ToolNode(tools))\n",
        "\n",
        "graph_builder.add_edge(START, \"assistant\")\n",
        "graph_builder.add_conditional_edges(\"assistant\", tools_condition)\n",
        "graph_builder.add_edge(\"tools\", \"assistant\")\n",
        "\n",
        "react_graph = graph_builder.compile()"
      ],
      "metadata": {
        "id": "Wp00KA1RrwTZ"
      },
      "execution_count": 13,
      "outputs": []
    },
    {
      "cell_type": "code",
      "source": [
        "# Enhanced system message that forces tool usage\n",
        "SYSTEM_MESSAGE = \"\"\"You are a helpful assistant with access to specialized tools.\n",
        "\n",
        "IMPORTANT RULES:\n",
        "1. You MUST use the provided tools for ALL calculations - never perform math manually\n",
        "2. For ANY arithmetic operation (addition, subtraction, multiplication), use the corresponding tool\n",
        "3. For historical information or dates, use the search_historical_info tool\n",
        "4. Always use tools even for simple calculations that you could do yourself\n",
        "5. If you need the current year, use the get_current_year tool\n",
        "6. Show your work by using tools step by step\n",
        "\n",
        "Available tools:\n",
        "- search_historical_info: For historical queries and dates\n",
        "- perform_multiplication: For multiplication (REQUIRED for all multiplication)\n",
        "- perform_addition: For addition (REQUIRED for all addition)\n",
        "- perform_subtraction: For subtraction (REQUIRED for all subtraction)\n",
        "- get_current_year: To get the current year\n",
        "- calculate_age_from_year: To calculate years since an event\n",
        "\n",
        "Remember: You must demonstrate the use of these tools rather than doing calculations in your head.\"\"\"\n"
      ],
      "metadata": {
        "id": "hZkdcu4kr0KZ"
      },
      "execution_count": 14,
      "outputs": []
    },
    {
      "cell_type": "code",
      "source": [
        "# Test cases\n",
        "test_queries = [\n",
        "    \"What year did India gain independence? Then multiply that year by 2 and add 5.\",\n",
        "    \"What year was the moon landing? Calculate how many years ago that was.\",\n",
        "    \"Find the year World War 2 ended. Then subtract 1900 from that year and multiply the result by 3.\",\n",
        "    \"What's 25 multiplied by 4, then add 17 to the result?\"\n",
        "]"
      ],
      "metadata": {
        "id": "P7p2SNXsr4YB"
      },
      "execution_count": 15,
      "outputs": []
    },
    {
      "cell_type": "code",
      "source": [
        "print(\"🚀 Testing Enhanced Tool Usage\\n\")\n",
        "print(\"=\" * 60)\n"
      ],
      "metadata": {
        "colab": {
          "base_uri": "https://localhost:8080/"
        },
        "id": "28Yfzvlnr7oh",
        "outputId": "45a8f88c-6ff6-448e-9874-32158b62c1e5"
      },
      "execution_count": 16,
      "outputs": [
        {
          "output_type": "stream",
          "name": "stdout",
          "text": [
            "🚀 Testing Enhanced Tool Usage\n",
            "\n",
            "============================================================\n"
          ]
        }
      ]
    },
    {
      "cell_type": "code",
      "source": [
        "for i, query in enumerate(test_queries, 1):\n",
        "    print(f\"\\n🔍 Test {i}: {query}\")\n",
        "    print(\"-\" * 50)\n",
        "\n",
        "    response = react_graph.invoke({\n",
        "        \"messages\": [\n",
        "            SystemMessage(content=SYSTEM_MESSAGE),\n",
        "            HumanMessage(content=query)\n",
        "        ]\n",
        "    })"
      ],
      "metadata": {
        "colab": {
          "base_uri": "https://localhost:8080/"
        },
        "id": "RVB6hG22r-gK",
        "outputId": "256826d5-7dfc-4db8-8916-d4c1a35e7e05"
      },
      "execution_count": 17,
      "outputs": [
        {
          "output_type": "stream",
          "name": "stdout",
          "text": [
            "\n",
            "🔍 Test 1: What year did India gain independence? Then multiply that year by 2 and add 5.\n",
            "--------------------------------------------------\n"
          ]
        },
        {
          "output_type": "stream",
          "name": "stderr",
          "text": [
            "/tmp/ipython-input-133929757.py:5: RuntimeWarning: This package (`duckduckgo_search`) has been renamed to `ddgs`! Use `pip install ddgs` instead.\n",
            "  search = DDGS()\n",
            "sys:1: ResourceWarning: Unclosed socket <zmq.Socket(zmq.PUSH) at 0x7e05917809f0>\n",
            "ResourceWarning: Enable tracemalloc to get the object allocation traceback\n",
            "/tmp/ipython-input-133929757.py:5: RuntimeWarning: This package (`duckduckgo_search`) has been renamed to `ddgs`! Use `pip install ddgs` instead.\n",
            "  search = DDGS()\n",
            "sys:1: ResourceWarning: Unclosed socket <zmq.Socket(zmq.PUSH) at 0x7e05917810f0>\n",
            "ResourceWarning: Enable tracemalloc to get the object allocation traceback\n"
          ]
        },
        {
          "output_type": "stream",
          "name": "stdout",
          "text": [
            "🔢 Multiplication Tool: 1947 × 2 = 3894\n"
          ]
        },
        {
          "output_type": "stream",
          "name": "stderr",
          "text": [
            "sys:1: ResourceWarning: Unclosed socket <zmq.Socket(zmq.PUSH) at 0x7e05917812b0>\n",
            "ResourceWarning: Enable tracemalloc to get the object allocation traceback\n"
          ]
        },
        {
          "output_type": "stream",
          "name": "stdout",
          "text": [
            "➕ Addition Tool: 3894 + 5 = 3899\n"
          ]
        },
        {
          "output_type": "stream",
          "name": "stderr",
          "text": [
            "sys:1: ResourceWarning: Unclosed socket <zmq.Socket(zmq.PUSH) at 0x7e05917812b0>\n",
            "ResourceWarning: Enable tracemalloc to get the object allocation traceback\n"
          ]
        },
        {
          "output_type": "stream",
          "name": "stdout",
          "text": [
            "\n",
            "🔍 Test 2: What year was the moon landing? Calculate how many years ago that was.\n",
            "--------------------------------------------------\n"
          ]
        },
        {
          "output_type": "stream",
          "name": "stderr",
          "text": [
            "/tmp/ipython-input-133929757.py:5: RuntimeWarning: This package (`duckduckgo_search`) has been renamed to `ddgs`! Use `pip install ddgs` instead.\n",
            "  search = DDGS()\n",
            "sys:1: ResourceWarning: Unclosed socket <zmq.Socket(zmq.PUSH) at 0x7e0591781940>\n",
            "ResourceWarning: Enable tracemalloc to get the object allocation traceback\n"
          ]
        },
        {
          "output_type": "stream",
          "name": "stdout",
          "text": [
            "🎂 Age Calculator Tool: 2025 - 1959 = 66 years\n"
          ]
        },
        {
          "output_type": "stream",
          "name": "stderr",
          "text": [
            "sys:1: ResourceWarning: Unclosed socket <zmq.Socket(zmq.PUSH) at 0x7e0591781a20>\n",
            "ResourceWarning: Enable tracemalloc to get the object allocation traceback\n"
          ]
        },
        {
          "output_type": "stream",
          "name": "stdout",
          "text": [
            "\n",
            "🔍 Test 3: Find the year World War 2 ended. Then subtract 1900 from that year and multiply the result by 3.\n",
            "--------------------------------------------------\n"
          ]
        },
        {
          "output_type": "stream",
          "name": "stderr",
          "text": [
            "/tmp/ipython-input-133929757.py:5: RuntimeWarning: This package (`duckduckgo_search`) has been renamed to `ddgs`! Use `pip install ddgs` instead.\n",
            "  search = DDGS()\n",
            "sys:1: ResourceWarning: Unclosed socket <zmq.Socket(zmq.PUSH) at 0x7e05917810f0>\n",
            "ResourceWarning: Enable tracemalloc to get the object allocation traceback\n"
          ]
        },
        {
          "output_type": "stream",
          "name": "stdout",
          "text": [
            "➖ Subtraction Tool: 1945 - 1900 = 45\n"
          ]
        },
        {
          "output_type": "stream",
          "name": "stderr",
          "text": [
            "sys:1: ResourceWarning: Unclosed socket <zmq.Socket(zmq.PUSH) at 0x7e0591780980>\n",
            "ResourceWarning: Enable tracemalloc to get the object allocation traceback\n"
          ]
        },
        {
          "output_type": "stream",
          "name": "stdout",
          "text": [
            "🔢 Multiplication Tool: 45 × 3 = 135\n"
          ]
        },
        {
          "output_type": "stream",
          "name": "stderr",
          "text": [
            "sys:1: ResourceWarning: Unclosed socket <zmq.Socket(zmq.PUSH) at 0x7e0591780360>\n",
            "ResourceWarning: Enable tracemalloc to get the object allocation traceback\n"
          ]
        },
        {
          "output_type": "stream",
          "name": "stdout",
          "text": [
            "\n",
            "🔍 Test 4: What's 25 multiplied by 4, then add 17 to the result?\n",
            "--------------------------------------------------\n",
            "🔢 Multiplication Tool: 25 × 4 = 100\n"
          ]
        },
        {
          "output_type": "stream",
          "name": "stderr",
          "text": [
            "sys:1: ResourceWarning: Unclosed socket <zmq.Socket(zmq.PUSH) at 0x7e05917810f0>\n",
            "ResourceWarning: Enable tracemalloc to get the object allocation traceback\n"
          ]
        },
        {
          "output_type": "stream",
          "name": "stdout",
          "text": [
            "➕ Addition Tool: 100 + 17 = 117\n"
          ]
        },
        {
          "output_type": "stream",
          "name": "stderr",
          "text": [
            "sys:1: ResourceWarning: Unclosed socket <zmq.Socket(zmq.PUSH) at 0x7e0591782190>\n",
            "ResourceWarning: Enable tracemalloc to get the object allocation traceback\n"
          ]
        }
      ]
    },
    {
      "cell_type": "code",
      "source": [
        "  # print(\"\\n📋 Conversation Flow:\")"
      ],
      "metadata": {
        "colab": {
          "base_uri": "https://localhost:8080/"
        },
        "id": "T01PNZdvsCip",
        "outputId": "92fbb83d-b383-4d4f-9b41-b765830fa29f"
      },
      "execution_count": 18,
      "outputs": [
        {
          "output_type": "stream",
          "name": "stdout",
          "text": [
            "\n",
            "📋 Conversation Flow:\n"
          ]
        }
      ]
    },
    {
      "cell_type": "code",
      "source": [
        "for j, message in enumerate(response[\"messages\"]):\n",
        "        if hasattr(message, 'content') and message.content:\n",
        "            msg_type = type(message).__name__\n",
        "            print(f\"  {j+1}. {msg_type}: {message.content[:100]}...\")\n",
        "        elif hasattr(message, 'tool_calls') and message.tool_calls:\n",
        "            print(f\"  {j+1}. Tool Calls: {len(message.tool_calls)} tools called\")\n",
        "print(\"\\n\" + \"=\" * 60)"
      ],
      "metadata": {
        "colab": {
          "base_uri": "https://localhost:8080/"
        },
        "id": "jXeAz0fSsHXf",
        "outputId": "bbd9f165-3737-465f-9eb3-666f3a72389c"
      },
      "execution_count": 21,
      "outputs": [
        {
          "output_type": "stream",
          "name": "stdout",
          "text": [
            "  1. SystemMessage: You are a helpful assistant with access to specialized tools. \n",
            "\n",
            "IMPORTANT RULES:\n",
            "1. You MUST use the...\n",
            "  2. HumanMessage: What's 25 multiplied by 4, then add 17 to the result?...\n",
            "  3. Tool Calls: 1 tools called\n",
            "  4. ToolMessage: 100...\n",
            "  5. Tool Calls: 1 tools called\n",
            "  6. ToolMessage: 117...\n",
            "  7. AIMessage: The final answer is 117....\n",
            "\n",
            "============================================================\n"
          ]
        }
      ]
    },
    {
      "cell_type": "code",
      "source": [
        "print(\"\\n🎯 Detailed Example with Step Tracking:\")\n",
        "print(\"=\" * 60)\n"
      ],
      "metadata": {
        "colab": {
          "base_uri": "https://localhost:8080/"
        },
        "id": "PFAl3fCwsQUM",
        "outputId": "e6ce2c62-bc9b-4011-f483-55b146834763"
      },
      "execution_count": 22,
      "outputs": [
        {
          "output_type": "stream",
          "name": "stdout",
          "text": [
            "\n",
            "🎯 Detailed Example with Step Tracking:\n",
            "============================================================\n"
          ]
        }
      ]
    },
    {
      "cell_type": "code",
      "source": [
        "detailed_response = react_graph.invoke({\n",
        "    \"messages\": [\n",
        "        SystemMessage(content=SYSTEM_MESSAGE + \"\\n\\nFor this task, explain each step you're taking and why you're using each tool.\"),\n",
        "        HumanMessage(content=\"Find out when the Berlin Wall fell. Then calculate: (year × 3) - 2000 + 15\")\n",
        "    ]\n",
        "})"
      ],
      "metadata": {
        "colab": {
          "base_uri": "https://localhost:8080/"
        },
        "id": "tW2NplL4sOTG",
        "outputId": "37b3eaca-6737-4d3e-e4f4-6c015f35bd82"
      },
      "execution_count": 23,
      "outputs": [
        {
          "output_type": "stream",
          "name": "stderr",
          "text": [
            "/tmp/ipython-input-133929757.py:5: RuntimeWarning: This package (`duckduckgo_search`) has been renamed to `ddgs`! Use `pip install ddgs` instead.\n",
            "  search = DDGS()\n",
            "sys:1: ResourceWarning: Unclosed socket <zmq.Socket(zmq.PUSH) at 0x7e0591783f50>\n",
            "ResourceWarning: Enable tracemalloc to get the object allocation traceback\n"
          ]
        },
        {
          "output_type": "stream",
          "name": "stdout",
          "text": [
            "🔢 Multiplication Tool: 1989 × 3 = 5967\n"
          ]
        },
        {
          "output_type": "stream",
          "name": "stderr",
          "text": [
            "sys:1: ResourceWarning: Unclosed socket <zmq.Socket(zmq.PUSH) at 0x7e0591964050>\n",
            "ResourceWarning: Enable tracemalloc to get the object allocation traceback\n"
          ]
        },
        {
          "output_type": "stream",
          "name": "stdout",
          "text": [
            "➖ Subtraction Tool: 5967 - 2000 = 3967\n"
          ]
        },
        {
          "output_type": "stream",
          "name": "stderr",
          "text": [
            "sys:1: ResourceWarning: Unclosed socket <zmq.Socket(zmq.PUSH) at 0x7e05919640c0>\n",
            "ResourceWarning: Enable tracemalloc to get the object allocation traceback\n"
          ]
        },
        {
          "output_type": "stream",
          "name": "stdout",
          "text": [
            "➕ Addition Tool: 3967 + 15 = 3982\n"
          ]
        },
        {
          "output_type": "stream",
          "name": "stderr",
          "text": [
            "sys:1: ResourceWarning: Unclosed socket <zmq.Socket(zmq.PUSH) at 0x7e0591964360>\n",
            "ResourceWarning: Enable tracemalloc to get the object allocation traceback\n"
          ]
        }
      ]
    },
    {
      "cell_type": "code",
      "source": [
        "print(\"\\n📝 Complete Message History:\")\n",
        "for i, msg in enumerate(detailed_response[\"messages\"]):\n",
        "    print(f\"\\n--- Message {i+1} ---\")\n",
        "    msg.pretty_print()"
      ],
      "metadata": {
        "colab": {
          "base_uri": "https://localhost:8080/"
        },
        "id": "YAGsQ0fjsWyW",
        "outputId": "8dc1f7ed-3c0b-4976-f168-248a17ae4358"
      },
      "execution_count": 24,
      "outputs": [
        {
          "output_type": "stream",
          "name": "stdout",
          "text": [
            "\n",
            "📝 Complete Message History:\n",
            "\n",
            "--- Message 1 ---\n",
            "================================\u001b[1m System Message \u001b[0m================================\n",
            "\n",
            "You are a helpful assistant with access to specialized tools. \n",
            "\n",
            "IMPORTANT RULES:\n",
            "1. You MUST use the provided tools for ALL calculations - never perform math manually\n",
            "2. For ANY arithmetic operation (addition, subtraction, multiplication), use the corresponding tool\n",
            "3. For historical information or dates, use the search_historical_info tool\n",
            "4. Always use tools even for simple calculations that you could do yourself\n",
            "5. If you need the current year, use the get_current_year tool\n",
            "6. Show your work by using tools step by step\n",
            "\n",
            "Available tools:\n",
            "- search_historical_info: For historical queries and dates\n",
            "- perform_multiplication: For multiplication (REQUIRED for all multiplication)\n",
            "- perform_addition: For addition (REQUIRED for all addition)\n",
            "- perform_subtraction: For subtraction (REQUIRED for all subtraction)\n",
            "- get_current_year: To get the current year\n",
            "- calculate_age_from_year: To calculate years since an event\n",
            "\n",
            "Remember: You must demonstrate the use of these tools rather than doing calculations in your head.\n",
            "\n",
            "For this task, explain each step you're taking and why you're using each tool.\n",
            "\n",
            "--- Message 2 ---\n",
            "================================\u001b[1m Human Message \u001b[0m=================================\n",
            "\n",
            "Find out when the Berlin Wall fell. Then calculate: (year × 3) - 2000 + 15\n",
            "\n",
            "--- Message 3 ---\n",
            "==================================\u001b[1m Ai Message \u001b[0m==================================\n",
            "Tool Calls:\n",
            "  search_historical_info (hpfkm9485)\n",
            " Call ID: hpfkm9485\n",
            "  Args:\n",
            "    query: When did the Berlin Wall fall?\n",
            "\n",
            "--- Message 4 ---\n",
            "=================================\u001b[1m Tool Message \u001b[0m=================================\n",
            "Name: search_historical_info\n",
            "\n",
            "Found historical information: The Berlin Wall fell on 9 November 1989 during the Peaceful Revolution, marking the beginning of the destruction of the figurative Iron Curtain, as East Berlin transit restrictions were … Fall of the ... Relevant years found: ['1989']\n",
            "\n",
            "--- Message 5 ---\n",
            "==================================\u001b[1m Ai Message \u001b[0m==================================\n",
            "Tool Calls:\n",
            "  perform_multiplication (mntxapqhq)\n",
            " Call ID: mntxapqhq\n",
            "  Args:\n",
            "    number1: 1989\n",
            "    number2: 3\n",
            "\n",
            "--- Message 6 ---\n",
            "=================================\u001b[1m Tool Message \u001b[0m=================================\n",
            "Name: perform_multiplication\n",
            "\n",
            "5967\n",
            "\n",
            "--- Message 7 ---\n",
            "==================================\u001b[1m Ai Message \u001b[0m==================================\n",
            "Tool Calls:\n",
            "  perform_subtraction (eq2h40edv)\n",
            " Call ID: eq2h40edv\n",
            "  Args:\n",
            "    number1: 5967\n",
            "    number2: 2000\n",
            "\n",
            "--- Message 8 ---\n",
            "=================================\u001b[1m Tool Message \u001b[0m=================================\n",
            "Name: perform_subtraction\n",
            "\n",
            "3967\n",
            "\n",
            "--- Message 9 ---\n",
            "==================================\u001b[1m Ai Message \u001b[0m==================================\n",
            "Tool Calls:\n",
            "  perform_addition (65h8vfd0q)\n",
            " Call ID: 65h8vfd0q\n",
            "  Args:\n",
            "    number1: 3967\n",
            "    number2: 15\n",
            "\n",
            "--- Message 10 ---\n",
            "=================================\u001b[1m Tool Message \u001b[0m=================================\n",
            "Name: perform_addition\n",
            "\n",
            "3982\n",
            "\n",
            "--- Message 11 ---\n",
            "==================================\u001b[1m Ai Message \u001b[0m==================================\n",
            "\n",
            "The final answer is 3982.\n"
          ]
        }
      ]
    }
  ]
}